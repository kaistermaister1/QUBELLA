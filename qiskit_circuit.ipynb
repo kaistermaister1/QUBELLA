{
 "cells": [
  {
   "cell_type": "code",
   "execution_count": 2,
   "id": "38603848-dc93-4864-9ac5-4ce81e21d984",
   "metadata": {},
   "outputs": [
    {
     "data": {
      "text/latex": [
       "$$ |00\\rangle$$"
      ],
      "text/plain": [
       "<IPython.core.display.Latex object>"
      ]
     },
     "metadata": {},
     "output_type": "display_data"
    },
    {
     "data": {
      "text/latex": [
       "$$\\frac{\\sqrt{2}}{2} |00\\rangle+\\frac{\\sqrt{2}}{2} |01\\rangle$$"
      ],
      "text/plain": [
       "<IPython.core.display.Latex object>"
      ]
     },
     "metadata": {},
     "output_type": "display_data"
    },
    {
     "data": {
      "text/latex": [
       "$$\\frac{\\sqrt{2}}{2} |00\\rangle+\\frac{\\sqrt{2}}{2} |11\\rangle$$"
      ],
      "text/plain": [
       "<IPython.core.display.Latex object>"
      ]
     },
     "metadata": {},
     "output_type": "display_data"
    },
    {
     "data": {
      "image/png": "[encoded data removed]",
      "text/plain": [
       "<Figure size 472.545x284.278 with 1 Axes>"
      ]
     },
     "metadata": {},
     "output_type": "display_data"
    }
   ],
   "source": [
    "# create_qiskit_circuit.py\n",
    "# Import Qiskit\n",
    "from qiskit import QuantumCircuit, QuantumRegister, ClassicalRegister\n",
    "from qiskit.visualization import circuit_drawer\n",
    "from IPython.display import display, Markdown\n",
    "from qiskit.quantum_info import Statevector\n",
    "\n",
    "# Function to display current quantum state\n",
    "def display_state(state):\n",
    "    display(Statevector(state).draw('latex'))\n",
    "\n",
    "# Create a quantum circuit with 2 qubits and 2 classical bits\n",
    "qr = QuantumRegister(2)\n",
    "cr = ClassicalRegister(2)\n",
    "circuit = QuantumCircuit(qr, cr)\n",
    "display_state(circuit)\n",
    "\n",
    "# Add a Hadamard gate on qubit 0\n",
    "circuit.h(qr[0])\n",
    "display_state(circuit)\n",
    "\n",
    "# Add a CNOT gate with control qubit 0 and target qubit 1\n",
    "circuit.cx(qr[0], qr[1])\n",
    "display_state(circuit)\n",
    "\n",
    "# Measure the qubits\n",
    "circuit.measure(qr, cr)\n",
    "\n",
    "# Draw the circuit using matplotlib\n",
    "display(circuit.draw(output='mpl'))"
   ]
  }
 ],
 "metadata": {
  "kernelspec": {
   "display_name": ".venv",
   "language": "python",
   "name": "python3"
  },
  "language_info": {
   "codemirror_mode": {
    "name": "ipython",
    "version": 3
   },
   "file_extension": ".py",
   "mimetype": "text/x-python",
   "name": "python",
   "nbconvert_exporter": "python",
   "pygments_lexer": "ipython3",
   "version": "3.12.9"
  }
 },
 "nbformat": 4,
 "nbformat_minor": 5
}
