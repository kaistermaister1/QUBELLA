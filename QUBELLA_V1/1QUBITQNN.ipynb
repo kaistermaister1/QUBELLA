{
  "cells": [
    {
      "cell_type": "code",
      "execution_count": 23,
      "metadata": {},
      "outputs": [],
      "source": [
        "# Goal: Teach a QNN to rotate a qubit by pi/2 on the x-axis\n",
        "# Training set size: 1\n",
        "# Use both EstimatorQNN and SamplerQNN\n",
        "# Have 1 qubit, 1 gate, and 1 observable Z\n",
        "# Loss function: arccos(dot product of the output and the target)"
      ]
    },
    {
      "cell_type": "code",
      "execution_count": 24,
      "metadata": {},
      "outputs": [
        {
          "data": {
            "image/png": "[encoded data removed]",
            "text/plain": [
              "<Figure size 269.064x117.056 with 1 Axes>"
            ]
          },
          "execution_count": 24,
          "metadata": {},
          "output_type": "execute_result"
        }
      ],
      "source": [
        "from qiskit_machine_learning.utils import algorithm_globals\n",
        "from qiskit.circuit import Parameter\n",
        "from qiskit import QuantumCircuit\n",
        "from qiskit.quantum_info import SparsePauliOp\n",
        "from qiskit_machine_learning.neural_networks import EstimatorQNN\n",
        "from qiskit.primitives import StatevectorEstimator as Estimator\n",
        "from qiskit_machine_learning.neural_networks import SamplerQNN\n",
        "from qiskit.primitives import StatevectorSampler as Sampler\n",
        "from qiskit.quantum_info import Statevector, Operator\n",
        "from qiskit.circuit.library import RYGate\n",
        "from qiskit_algorithms.optimizers import ADAM\n",
        "import numpy as np\n",
        "\n",
        "algorithm_globals.random_seed = 13 # Set the random seed\n",
        "\n",
        "# Create a quantum circuit with 1 qubit and 1 gate parameter\n",
        "qc=QuantumCircuit(1)\n",
        "params = [Parameter(\"input1\"),Parameter(\"weight1\")]\n",
        "qc.ry(params[0],0) # Rotate 0 qubit to set initial state\n",
        "qc.ry(params[1],0) # Rotation weight\n",
        "qc.draw(\"mpl\", style=\"clifford\")"
      ]
    },
    {
      "cell_type": "code",
      "execution_count": 25,
      "metadata": {},
      "outputs": [
        {
          "name": "stderr",
          "output_type": "stream",
          "text": [
            "No gradient function provided, creating a gradient function. If your Estimator requires transpilation, please provide a pass manager.\n",
            "No gradient function provided, creating a gradient function. If your Sampler requires transpilation, please provide a pass manager.\n"
          ]
        },
        {
          "name": "stdout",
          "output_type": "stream",
          "text": [
            "input: [0.86479759]\n",
            "weight: [0.85530251]\n"
          ]
        }
      ],
      "source": [
        "# Define observable for EstimatorQNN\n",
        "observable = SparsePauliOp.from_list([(\"Z\", 1)])\n",
        "\n",
        "# Define EstimatorQNN\n",
        "estimator = Estimator() # Choose the simulation estimator (outputs expectation value)\n",
        "estimator_qnn = EstimatorQNN(\n",
        "    circuit=qc,\n",
        "    observables=observable,\n",
        "    input_params=[params[0]],\n",
        "    weight_params=[params[1]],\n",
        "    estimator=estimator,\n",
        ")\n",
        "\n",
        "# Define SamplerQNN\n",
        "sampler = Sampler() # Choose the simulation sampler (outputs probability distribution)\n",
        "sampler_qnn = SamplerQNN(\n",
        "    circuit=qc, \n",
        "    input_params=[params[0]],\n",
        "    weight_params=[params[1]], \n",
        "    sampler=sampler\n",
        ")\n",
        "\n",
        "# Set random values for input and weight parameter\n",
        "# Input parameter won't change, but weight will be optimized\n",
        "inputweight = algorithm_globals.random.random(1)\n",
        "weight = algorithm_globals.random.random(1)\n",
        "print(f\"input: {inputweight}\")\n",
        "print(f\"weight: {weight}\")"
      ]
    },
    {
      "cell_type": "code",
      "execution_count": 26,
      "metadata": {},
      "outputs": [
        {
          "name": "stdout",
          "output_type": "stream",
          "text": [
            "Forward pass result for EstimatorQNN: [[-0.17208044]].\n",
            "Weight gradient for EstimatorQNN: [[[-0.98887488]]].\n",
            "Forward pass result for SamplerQNN: [[0.421875 0.578125]].\n",
            "Weight gradients for SamplerQNN: [[[-0.49609375]\n",
            "  [ 0.49609375]]].\n"
          ]
        }
      ],
      "source": [
        "# EstimatorQNN forward pass\n",
        "estimator_qnn_forward = estimator_qnn.forward(inputweight, weight)\n",
        "print(f\"Forward pass result for EstimatorQNN: {estimator_qnn_forward}.\")\n",
        "# Interpretation: 0.01511807 would be close to 0 and 1 superposition (unknown sign and phase)\n",
        "\n",
        "# EstimatorQNN backward pass\n",
        "estimator_qnn_input_grad, estimator_qnn_weight_grad = estimator_qnn.backward(\n",
        "    inputweight, weight\n",
        ")\n",
        "print(f\"Weight gradient for EstimatorQNN: {estimator_qnn_weight_grad}.\")\n",
        "\n",
        "# ----------------------------\n",
        "\n",
        "# SamplerQNN forward pass\n",
        "sampler_qnn_forward = sampler_qnn.forward(inputweight, weight)\n",
        "print(f\"Forward pass result for SamplerQNN: {sampler_qnn_forward}.\")\n",
        "# Interpretation: 0.67675781 0.32324219 means 67% chance of being 0 and 32% chance of being 1\n",
        "\n",
        "# SamplerQNN backward pass\n",
        "sampler_qnn_input_grad, sampler_qnn_weight_grad = sampler_qnn.backward(\n",
        "    inputweight, weight\n",
        ")\n",
        "print(f\"Weight gradients for SamplerQNN: {sampler_qnn_weight_grad}.\")\n"
      ]
    },
    {
      "cell_type": "code",
      "execution_count": 27,
      "metadata": {},
      "outputs": [
        {
          "name": "stdout",
          "output_type": "stream",
          "text": [
            "0.12013700641024061\n",
            "0.3467837889049611\n"
          ]
        }
      ],
      "source": [
        "# Define our SamplerQNN loss function - takes SamplerQNN output and input weight.\n",
        "\n",
        "def target_amps(inputweight):\n",
        "    initial_state = Statevector.from_instruction(RYGate(inputweight[0]))\n",
        "    target_state = initial_state.evolve(RYGate(np.pi/2)).data # Extract amplitudes\n",
        "    return target_state\n",
        "\n",
        "def Sloss(sampler_qnn_forward, inputweight):\n",
        "    target_probs = np.abs(target_amps(inputweight))**2\n",
        "    output_probs = np.array(sampler_qnn_forward).reshape(-1) # Reshape from 2D to 1D array\n",
        "    BC = (np.sum(np.sqrt(target_probs * output_probs)))**2 # Bhattacharyya coefficient\n",
        "    return 1 - BC, -BC*np.sqrt(target_probs / output_probs) # Classical fidelity and partial derivative\n",
        "\n",
        "loss1,partial2 = Sloss(sampler_qnn_forward, inputweight)\n",
        "print(loss1)\n",
        "\n",
        "# Define our EstimatorQNN loss function - takes EstimatorQNN output and input weight.\n",
        "def Eloss(estimator_qnn_forward, inputweight):\n",
        "    Z = Operator.from_label(\"Z\")  # 2×2 Pauli-Z matrix\n",
        "    target_state = target_amps(inputweight)\n",
        "    target_expectation  = np.vdot(target_state, Z @ target_state).real\n",
        "    output_expectation = estimator_qnn_forward[0][0]\n",
        "    return (output_expectation - target_expectation)**2, 2*(output_expectation - target_expectation) # Expectation loss and partial derivative\n",
        "\n",
        "loss, partial2 = Eloss(estimator_qnn_forward, inputweight)\n",
        "print(loss)"
      ]
    },
    {
      "cell_type": "code",
      "execution_count": 29,
      "metadata": {},
      "outputs": [
        {
          "name": "stdout",
          "output_type": "stream",
          "text": [
            "Updated s weights: [[1.56123069]]\n",
            "Updated e weights: [[1.56709679]]\n"
          ]
        }
      ],
      "source": [
        "# Instantiate ADAM optimizer\n",
        "optimizer = ADAM(\n",
        "    maxiter=1000,    # total number of Adam steps\n",
        "    lr=0.01,        # learning rate\n",
        "    beta_1=0.9,\n",
        "    beta_2=0.99,\n",
        "    eps=1e-8\n",
        ")\n",
        "\n",
        "# Compute loss and gradient\n",
        "def loss_and_gradient(\n",
        "    weights: np.ndarray,\n",
        "    inputs: np.ndarray,\n",
        "    estimator_qnn=None,\n",
        "    sampler_qnn=None\n",
        ") -> tuple[float, np.ndarray]:\n",
        "    if estimator_qnn is not None:\n",
        "        y = estimator_qnn.forward(inputs, weights)\n",
        "        loss, dL_dE = Eloss(y, inputs)\n",
        "        _, dE_dθ = estimator_qnn.backward(inputs, weights)\n",
        "        # dE_dθ might have shape (1,1,1) → squeeze to scalar\n",
        "        dE_dθ = np.squeeze(dE_dθ)\n",
        "        grad = dL_dE * dE_dθ\n",
        "    elif sampler_qnn is not None:\n",
        "        y = sampler_qnn.forward(inputs, weights)\n",
        "        loss, dL_dE = Sloss(y, inputs)\n",
        "        _, dE_dθ = sampler_qnn.backward(inputs, weights)\n",
        "        grad = dL_dE @ np.squeeze(dE_dθ)\n",
        "    else:\n",
        "        raise ValueError(\"Provide either estimator_qnn or sampler_qnn\")\n",
        "\n",
        "    # Always return a 1-D array\n",
        "    return float(loss), np.atleast_1d(grad)\n",
        "\n",
        "# Build callables for ADAM\n",
        "def make_adam_functions(qnn, is_estimator=True):\n",
        "    def loss_fn(w):\n",
        "        loss, _ = loss_and_gradient(\n",
        "            w, inputweight,\n",
        "            estimator_qnn=qnn if is_estimator else None,\n",
        "            sampler_qnn=qnn if not is_estimator else None,\n",
        "        )\n",
        "        return loss\n",
        "    def grad_fn(w):\n",
        "        _, grad = loss_and_gradient(\n",
        "            w, inputweight,\n",
        "            estimator_qnn=qnn if is_estimator else None,\n",
        "            sampler_qnn=qnn if not is_estimator else None,\n",
        "        )\n",
        "        return grad\n",
        "    return loss_fn, grad_fn\n",
        "\n",
        "# Run the optimization\n",
        "s_loss_fn, s_grad_fn = make_adam_functions(sampler_qnn, is_estimator=False)\n",
        "e_loss_fn, e_grad_fn = make_adam_functions(estimator_qnn, is_estimator=True)\n",
        "initial_weights = np.array([weight], dtype=float)\n",
        "s_result = optimizer.minimize(fun=s_loss_fn, x0=initial_weights, jac=s_grad_fn)\n",
        "e_result = optimizer.minimize(fun=e_loss_fn, x0=initial_weights, jac=e_grad_fn)\n",
        "\n",
        "new_s_weights = s_result.x\n",
        "new_e_weights = e_result.x\n",
        "print(\"Updated s weights:\", new_s_weights)\n",
        "print(\"Updated e weights:\", new_e_weights)\n",
        "\n",
        "# Takes about 30 seconds to find the minimum weights\n"
      ]
    }
  ],
  "metadata": {
    "kernelspec": {
      "display_name": ".venv",
      "language": "python",
      "name": "python3"
    },
    "language_info": {
      "codemirror_mode": {
        "name": "ipython",
        "version": 3
      },
      "file_extension": ".py",
      "mimetype": "text/x-python",
      "name": "python",
      "nbconvert_exporter": "python",
      "pygments_lexer": "ipython3",
      "version": "3.12.9"
    }
  },
  "nbformat": 4,
  "nbformat_minor": 2
}
